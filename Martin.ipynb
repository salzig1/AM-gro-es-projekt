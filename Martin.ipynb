{
 "cells": [
  {
   "cell_type": "markdown",
   "id": "ee94db2a-ecca-4dcb-b69c-ed7f9bbc818a",
   "metadata": {},
   "source": [
    "    "
   ]
  },
  {
   "cell_type": "markdown",
   "id": "2fa42c4a-d86c-4b49-a042-83ce2a612ec1",
   "metadata": {},
   "source": [
    "### Julia Mengen\n",
    "Die Julia-Menge ist eine andere Betrachtungsweise der Mandelbrot-Rekursion, wobei die gleiche Folgenbildung genutzt wird. Einfach gesagt ist die Julia-Menge definiert als die Grenzwerte bei denen während der Rekursion der Funktionswert den Fluchtkreis verlässt. Dadurch bildetet eine Julia Menge ebenfalls den Rand der Gefangenenmenge, welche alle Startwerte enthält bei denen die Funktionswerte bei mehr als 1000 Iterationen den Fluchtkreis nicht verlassen. Der Algorithmus bildet für jeden Punkt des Fluchtkreises die Folge mit dem festgelegten c. Der Startwert wird entsprechend dem Zeitpunkt (Anzahl der Iterationen), bei dem der Fluchtkreis verlassen wurde, gefärbt oder beim Erreichen der 1000 Iterationen in schwarz gefärbt. Nur durch Betrachtung des c kann vorhergesagt werden, ob die Julia Menge zusammenhängend ist. Wenn der Wert im Apfelmännchen liegt, ist die Menge zusammenhängend, wenn der Wert nicht im Apfelmännchen liegt nicht. "
   ]
  },
  {
   "cell_type": "code",
   "execution_count": 55,
   "id": "960a4429-e81d-4e54-aff7-958f05de8681",
   "metadata": {},
   "outputs": [
    {
     "data": {
      "image/png": "[encoded data removed]",
      "text/plain": [
       "Graphics object consisting of 1 graphics primitive"
      ]
     },
     "execution_count": 55,
     "metadata": {},
     "output_type": "execute_result"
    }
   ],
   "source": [
    "import numpy as np\n",
    "import matplotlib.pyplot as plt\n",
    "\n",
    "def julia_set(width, height, c, max_iter):\n",
    "    \n",
    "    image = np.zeros((height, width))\n",
    "    \n",
    "    # Create points for a 2x2 square in which the Fluchtkreis is set\n",
    "    x_range = np.linspace(-2, 2, width)\n",
    "    y_range = np.linspace(-2, 2, height)\n",
    "\n",
    "    # For every point in the Fluchtkreis\n",
    "    for x in range(width):\n",
    "        for y in range(height):\n",
    "            zx = x_range[x] * 0.5\n",
    "            zy = y_range[y] * 0.5\n",
    "            if zx**2 + zy**2 <= 4 : #Continiue as long as the point is part of the Fluchtkreis\n",
    "                z = complex(zx, zy)\n",
    "                iteration = 0\n",
    "                while abs(z) < 4 and iteration < max_iter: # Continiue while the new value is still in the Fluchtkreis and iteration is lower than max_iter\n",
    "                    z = z*z + c\n",
    "                    iteration += 1\n",
    "                color_value = iteration / max_iter # Connect the color_value \n",
    "                image[y, x] = color_value #mark the point\n",
    "    return image\n",
    "\n",
    "def plot_julia_set(image):\n",
    "    plt.imshow(image, cmap='inferno', extent=[-2, 2, -2, 2])\n",
    "    plt.xlabel('Re')\n",
    "    plt.ylabel('Im')\n",
    "    return plt\n",
    "\n",
    "\n",
    "\n",
    "\n",
    "\n",
    "width, height = 300, 300  # How many points we want to look at in the circle \n",
    "c = -0.7 + 0.27015j  # start value \n",
    "max_iter = 1000  # Maximum iterations for each point\n",
    "image = julia_set(width, height,c, max_iter)\n",
    "plot_julia_set(image)\n",
    "\n"
   ]
  },
  {
   "cell_type": "code",
   "execution_count": 52,
   "id": "65b528e6-84c1-4d6a-b1d2-03664cf4be3b",
   "metadata": {},
   "outputs": [
    {
     "data": {
      "text/plain": [
       "<module 'matplotlib.pyplot' from '/private/var/tmp/sage-10.2-current/local/var/lib/sage/venv-python3.11.1/lib/python3.11/site-packages/matplotlib/pyplot.py'>"
      ]
     },
     "execution_count": 52,
     "metadata": {},
     "output_type": "execute_result"
    },
    {
     "data": {
      "image/png": "[encoded data removed]",
      "text/plain": [
       "<Figure size 640x480 with 1 Axes>"
      ]
     },
     "metadata": {},
     "output_type": "display_data"
    }
   ],
   "source": [
    "width, height = 50, 50  # How many points we want to look at in the circle \n",
    "c = -0.7 + 0.27015j  # start value \n",
    "max_iter = 1000  # Maximum iterations for each point\n",
    "image = julia_set(width, height,c, max_iter)\n",
    "plot_julia_set(image)"
   ]
  },
  {
   "cell_type": "markdown",
   "id": "7dafce0d-3c94-4138-b9f2-fbf733c56410",
   "metadata": {},
   "source": [
    "Anhand von dieser Grafik lässt sich eindeutig erkennen, dass jeder Pixel und damit auch jeder Startwert durch die Mandelbrot-Rekursion mit gleichen c durchgeführt wird und dadurch eingefärbt wird."
   ]
  },
  {
   "cell_type": "markdown",
   "id": "aa4e5be4-69d5-4888-9580-0b63128717cc",
   "metadata": {},
   "source": [
    "Wenn der Parameter c nun in der gleichen Funktion geändert wird, kann nicht vorhergesagt werden wie sich die Grafik und damit die Julia Menge ändern wird. "
   ]
  },
  {
   "cell_type": "markdown",
   "id": "8ecfea14-ac22-48b3-8cc3-87591e17ae7b",
   "metadata": {},
   "source": []
  },
  {
   "cell_type": "code",
   "execution_count": 59,
   "id": "fcf909ef-eb51-4143-9597-71bcd9f5da27",
   "metadata": {},
   "outputs": [
    {
     "ename": "AttributeError",
     "evalue": "'FuncAnimation' object has no attribute 'show'",
     "output_type": "error",
     "traceback": [
      "\u001b[0;31m---------------------------------------------------------------------------\u001b[0m",
      "\u001b[0;31mAttributeError\u001b[0m                            Traceback (most recent call last)",
      "Cell \u001b[0;32mIn [59], line 17\u001b[0m\n\u001b[1;32m     14\u001b[0m     \u001b[38;5;28;01mreturn\u001b[39;00m ax\n\u001b[1;32m     16\u001b[0m ani \u001b[38;5;241m=\u001b[39m animation\u001b[38;5;241m.\u001b[39mFuncAnimation(fig, update, frames\u001b[38;5;241m=\u001b[39m\u001b[38;5;28mlen\u001b[39m(plots), blit\u001b[38;5;241m=\u001b[39m\u001b[38;5;28;01mFalse\u001b[39;00m, repeat\u001b[38;5;241m=\u001b[39m\u001b[38;5;28;01mTrue\u001b[39;00m)\n\u001b[0;32m---> 17\u001b[0m \u001b[43mani\u001b[49m\u001b[38;5;241;43m.\u001b[39;49m\u001b[43mshow\u001b[49m()\n",
      "\u001b[0;31mAttributeError\u001b[0m: 'FuncAnimation' object has no attribute 'show'"
     ]
    }
   ],
   "source": [
    "import matplotlib.animation as animation\n",
    "width, height = 50, 50  # How many points we want to look at in the circle \n",
    "max_iter = 100  # Maximum iterations for each point\n",
    "frames = 200\n",
    "interval = 50\n",
    "c_values = [complex(0.7885 * np.cos(t / 20), 0.7885 * np.sin(t / 20)) for t in range(frames)]\n",
    "plots = list(plot_julia_set(julia_set(width, height,c, max_iter)) for c in c_values)\n",
    "def update(frame):\n",
    "    \"\"\"Update the plot for each frame\"\"\"\n",
    "    ax.clear()\n",
    "    ax.imshow(plot_list[frame], cmap='inferno', extent=[-2, 2, -2, 2])\n",
    "    ax.set_xlabel('Re')\n",
    "    ax.set_ylabel('Im')\n",
    "    return ax\n",
    "\n",
    "ani = animation.FuncAnimation(fig, update, frames=len(plots), blit=False, repeat=True)\n",
    "ani.show()"
   ]
  },
  {
   "cell_type": "markdown",
   "id": "555ea221-b007-408d-9865-cd60a1c82a14",
   "metadata": {},
   "source": [
    "### Übungsaufgaben \n",
    "\n",
    "1. Zeichnen Sie die Julia Menge in die gegebene Grafik ein.\n",
    "2. Geben Sie den festen Wert und den Variablenwert des gegebenen SageMath Code Snippets zu der Julia Menge an.\n",
    "3. Wenn der Grenzwert x = 0.5 + 0.5i Teil der Julia Menge ist und x2 = 0.51 + 0.5i Teil der Gefangenenmenge ist.\n",
    "   Wird die Rekursion für z = 0.49 + 0.5i bei 1000 Iterationen den Fluchtkreis verlassen?\n",
    "\n",
    "\n",
    "       "
   ]
  },
  {
   "cell_type": "code",
   "execution_count": null,
   "id": "56a74565-1ccc-49cb-9b48-83402a07c4c4",
   "metadata": {},
   "outputs": [],
   "source": []
  }
 ],
 "metadata": {
  "kernelspec": {
   "display_name": "SageMath 10.2",
   "language": "sage",
   "name": "sagemath"
  },
  "language_info": {
   "codemirror_mode": {
    "name": "ipython",
    "version": 3
   },
   "file_extension": ".py",
   "mimetype": "text/x-python",
   "name": "python",
   "nbconvert_exporter": "python",
   "pygments_lexer": "ipython3",
   "version": "3.11.1"
  }
 },
 "nbformat": 4,
 "nbformat_minor": 5
}
